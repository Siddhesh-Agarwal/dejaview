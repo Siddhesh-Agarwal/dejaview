{
 "cells": [
  {
   "cell_type": "code",
   "execution_count": 1,
   "metadata": {},
   "outputs": [],
   "source": [
    "import matplotlib.pyplot as plt\n",
    "import numpy as np\n",
    "import pandas as pd\n",
    "from keras.layers import LSTM, Dense, Dropout, Embedding\n",
    "from keras.models import Sequential\n",
    "from keras.preprocessing.text import one_hot\n",
    "from keras_preprocessing.sequence import pad_sequences"
   ]
  },
  {
   "cell_type": "code",
   "execution_count": 2,
   "metadata": {},
   "outputs": [
    {
     "name": "stderr",
     "output_type": "stream",
     "text": [
      "[nltk_data] Error loading stopwords: <urlopen error [Errno 11001]\n",
      "[nltk_data]     getaddrinfo failed>\n"
     ]
    },
    {
     "data": {
      "text/plain": [
       "False"
      ]
     },
     "execution_count": 2,
     "metadata": {},
     "output_type": "execute_result"
    }
   ],
   "source": [
    "import re\n",
    "\n",
    "import nltk\n",
    "from nltk.corpus import stopwords\n",
    "from nltk.stem.porter import PorterStemmer\n",
    "\n",
    "nltk.download(\"stopwords\")"
   ]
  },
  {
   "cell_type": "code",
   "execution_count": 3,
   "metadata": {},
   "outputs": [],
   "source": [
    "df = pd.read_csv(\"./data/train.csv\")\n",
    "test = pd.read_csv(\"./data/test.csv\")"
   ]
  },
  {
   "cell_type": "code",
   "execution_count": 4,
   "metadata": {},
   "outputs": [],
   "source": [
    "df.fillna(\" \", inplace=True)\n",
    "test.fillna(\" \", inplace=True)"
   ]
  },
  {
   "cell_type": "code",
   "execution_count": 5,
   "metadata": {},
   "outputs": [],
   "source": [
    "df[\"total\"] = df[\"title\"] + \" \" + df[\"author\"]\n",
    "test[\"total\"] = test[\"title\"] + \" \" + test[\"author\"]"
   ]
  },
  {
   "cell_type": "code",
   "execution_count": 6,
   "metadata": {},
   "outputs": [
    {
     "name": "stdout",
     "output_type": "stream",
     "text": [
      "(20800, 5)\n",
      "(20800,)\n"
     ]
    }
   ],
   "source": [
    "X = df.drop(\"label\", axis=1)\n",
    "y = df[\"label\"]\n",
    "print(X.shape)\n",
    "print(y.shape)"
   ]
  },
  {
   "cell_type": "code",
   "execution_count": 7,
   "metadata": {},
   "outputs": [],
   "source": [
    "voc_size = 5000\n",
    "msg = X.copy()\n",
    "msg_test = test.copy()"
   ]
  },
  {
   "cell_type": "code",
   "execution_count": 8,
   "metadata": {},
   "outputs": [],
   "source": [
    "ps = PorterStemmer()"
   ]
  },
  {
   "cell_type": "code",
   "execution_count": 9,
   "metadata": {},
   "outputs": [],
   "source": [
    "corpus = []\n",
    "for i in range(len(msg)):\n",
    "    review = re.sub(\"[^a-zA-Z]\", \" \", msg[\"total\"][i])\n",
    "    review = review.lower()\n",
    "    review = review.split()\n",
    "    review = [\n",
    "        ps.stem(word) for word in review if not word in stopwords.words(\"english\")\n",
    "    ]\n",
    "    review = \" \".join(review)\n",
    "    corpus.append(review)"
   ]
  },
  {
   "cell_type": "code",
   "execution_count": 10,
   "metadata": {},
   "outputs": [],
   "source": [
    "corpus_test = []\n",
    "for i in range(len(msg_test)):\n",
    "    review = re.sub(\"[^a-zA-Z]\", \" \", msg_test[\"total\"][i])\n",
    "    review = review.lower()\n",
    "    review = review.split()\n",
    "    review = [\n",
    "        ps.stem(word) for word in review if not word in stopwords.words(\"english\")\n",
    "    ]\n",
    "    review = \" \".join(review)\n",
    "    corpus_test.append(review)"
   ]
  },
  {
   "cell_type": "code",
   "execution_count": 11,
   "metadata": {},
   "outputs": [],
   "source": [
    "onehot_rep = [one_hot(words, voc_size) for words in corpus]\n",
    "onehot_rep_test = [one_hot(words, voc_size) for words in corpus_test]"
   ]
  },
  {
   "cell_type": "code",
   "execution_count": 12,
   "metadata": {},
   "outputs": [],
   "source": [
    "embedded_docs = pad_sequences(onehot_rep, padding=\"pre\", maxlen=25)\n",
    "embedded_docs_test = pad_sequences(onehot_rep_test, padding=\"pre\", maxlen=25)"
   ]
  },
  {
   "cell_type": "code",
   "execution_count": 13,
   "metadata": {},
   "outputs": [],
   "source": [
    "model = Sequential(\n",
    "    [\n",
    "        Embedding(voc_size, 40, input_length=25),\n",
    "        Dropout(0.25),\n",
    "        LSTM(100),\n",
    "        Dropout(0.25),\n",
    "        Dense(64, activation=\"relu\"),\n",
    "        Dropout(0.25),\n",
    "        Dense(1, activation=\"sigmoid\"),\n",
    "    ]\n",
    ")\n",
    "model.compile(loss=\"binary_crossentropy\", optimizer=\"adam\", metrics=[\"accuracy\"])"
   ]
  },
  {
   "cell_type": "code",
   "execution_count": 14,
   "metadata": {},
   "outputs": [
    {
     "name": "stdout",
     "output_type": "stream",
     "text": [
      "Model: \"sequential\"\n",
      "_________________________________________________________________\n",
      " Layer (type)                Output Shape              Param #   \n",
      "=================================================================\n",
      " embedding (Embedding)       (None, 25, 40)            200000    \n",
      "                                                                 \n",
      " dropout (Dropout)           (None, 25, 40)            0         \n",
      "                                                                 \n",
      " lstm (LSTM)                 (None, 100)               56400     \n",
      "                                                                 \n",
      " dropout_1 (Dropout)         (None, 100)               0         \n",
      "                                                                 \n",
      " dense (Dense)               (None, 64)                6464      \n",
      "                                                                 \n",
      " dropout_2 (Dropout)         (None, 64)                0         \n",
      "                                                                 \n",
      " dense_1 (Dense)             (None, 1)                 65        \n",
      "                                                                 \n",
      "=================================================================\n",
      "Total params: 262,929\n",
      "Trainable params: 262,929\n",
      "Non-trainable params: 0\n",
      "_________________________________________________________________\n"
     ]
    }
   ],
   "source": [
    "model.summary()"
   ]
  },
  {
   "cell_type": "code",
   "execution_count": 15,
   "metadata": {},
   "outputs": [
    {
     "data": {
      "text/plain": [
       "((20800, 25), (20800,), (5200, 25))"
      ]
     },
     "execution_count": 15,
     "metadata": {},
     "output_type": "execute_result"
    }
   ],
   "source": [
    "X_final = np.array(embedded_docs)\n",
    "y_final = np.array(y)\n",
    "test_final = np.array(embedded_docs_test)\n",
    "X_final.shape, y_final.shape, test_final.shape"
   ]
  },
  {
   "cell_type": "code",
   "execution_count": 16,
   "metadata": {},
   "outputs": [
    {
     "name": "stdout",
     "output_type": "stream",
     "text": [
      "Epoch 1/20\n",
      "325/325 [==============================] - 12s 28ms/step - loss: 0.1490 - accuracy: 0.9365\n",
      "Epoch 2/20\n",
      "325/325 [==============================] - 9s 27ms/step - loss: 0.0195 - accuracy: 0.9944\n",
      "Epoch 3/20\n",
      "325/325 [==============================] - 9s 27ms/step - loss: 0.0084 - accuracy: 0.9980\n",
      "Epoch 4/20\n",
      "325/325 [==============================] - 9s 26ms/step - loss: 0.0059 - accuracy: 0.9985\n",
      "Epoch 5/20\n",
      "325/325 [==============================] - 8s 25ms/step - loss: 0.0040 - accuracy: 0.9986\n",
      "Epoch 6/20\n",
      "325/325 [==============================] - 8s 25ms/step - loss: 0.0013 - accuracy: 0.9998\n",
      "Epoch 7/20\n",
      "325/325 [==============================] - 11s 33ms/step - loss: 0.0013 - accuracy: 0.9996\n",
      "Epoch 8/20\n",
      "325/325 [==============================] - 8s 26ms/step - loss: 0.0013 - accuracy: 0.9996\n",
      "Epoch 9/20\n",
      "325/325 [==============================] - 9s 27ms/step - loss: 0.0022 - accuracy: 0.9994\n",
      "Epoch 10/20\n",
      "325/325 [==============================] - 8s 26ms/step - loss: 0.0022 - accuracy: 0.9992\n",
      "Epoch 11/20\n",
      "325/325 [==============================] - 9s 28ms/step - loss: 8.4887e-04 - accuracy: 0.9997\n",
      "Epoch 12/20\n",
      "325/325 [==============================] - 9s 27ms/step - loss: 3.9530e-04 - accuracy: 0.9999\n",
      "Epoch 13/20\n",
      "325/325 [==============================] - 9s 27ms/step - loss: 8.1152e-04 - accuracy: 0.9998\n",
      "Epoch 14/20\n",
      "325/325 [==============================] - 9s 29ms/step - loss: 1.7433e-04 - accuracy: 1.0000\n",
      "Epoch 15/20\n",
      "325/325 [==============================] - 8s 25ms/step - loss: 2.8021e-05 - accuracy: 1.0000\n",
      "Epoch 16/20\n",
      "325/325 [==============================] - 8s 26ms/step - loss: 4.7537e-05 - accuracy: 1.0000\n",
      "Epoch 17/20\n",
      "325/325 [==============================] - 8s 26ms/step - loss: 0.0014 - accuracy: 0.9996\n",
      "Epoch 18/20\n",
      "325/325 [==============================] - 9s 28ms/step - loss: 0.0023 - accuracy: 0.9993\n",
      "Epoch 19/20\n",
      "325/325 [==============================] - 9s 26ms/step - loss: 6.6737e-04 - accuracy: 0.9998\n",
      "Epoch 20/20\n",
      "325/325 [==============================] - 9s 28ms/step - loss: 1.3024e-04 - accuracy: 1.0000\n"
     ]
    },
    {
     "data": {
      "text/plain": [
       "<keras.callbacks.History at 0x22bbf842bb0>"
      ]
     },
     "execution_count": 16,
     "metadata": {},
     "output_type": "execute_result"
    }
   ],
   "source": [
    "model.fit(X_final, y_final, epochs=20, batch_size=64)"
   ]
  },
  {
   "cell_type": "code",
   "execution_count": 17,
   "metadata": {},
   "outputs": [],
   "source": [
    "model.save(\"model.h5\")"
   ]
  }
 ],
 "metadata": {
  "kernelspec": {
   "display_name": "Python 3.9.12",
   "language": "python",
   "name": "python3"
  },
  "language_info": {
   "codemirror_mode": {
    "name": "ipython",
    "version": 3
   },
   "file_extension": ".py",
   "mimetype": "text/x-python",
   "name": "python",
   "nbconvert_exporter": "python",
   "pygments_lexer": "ipython3",
   "version": "3.9.12"
  },
  "orig_nbformat": 4,
  "vscode": {
   "interpreter": {
    "hash": "0cce0c6ec985846c3a31030c79fbfd6673bd27e1511b5404d239a6f1f938ef69"
   }
  }
 },
 "nbformat": 4,
 "nbformat_minor": 2
}
